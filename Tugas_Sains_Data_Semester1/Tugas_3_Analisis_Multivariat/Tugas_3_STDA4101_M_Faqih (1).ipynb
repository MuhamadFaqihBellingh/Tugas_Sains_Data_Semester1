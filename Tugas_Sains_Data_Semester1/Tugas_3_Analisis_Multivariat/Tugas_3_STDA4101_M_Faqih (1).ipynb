{
  "nbformat": 4,
  "nbformat_minor": 0,
  "metadata": {
    "colab": {
      "provenance": []
    },
    "kernelspec": {
      "name": "python3",
      "display_name": "Python 3"
    },
    "language_info": {
      "name": "python"
    }
  },
  "cells": [
    {
      "cell_type": "markdown",
      "source": [
        "# Import Library"
      ],
      "metadata": {
        "id": "tlTt-t2bdjVl"
      }
    },
    {
      "cell_type": "code",
      "source": [
        "import pandas as pd\n",
        "import numpy as np\n",
        "import matplotlib.pyplot as plt\n",
        "import seaborn as sns\n",
        "import statsmodels.api as sm"
      ],
      "metadata": {
        "id": "jhrAlBiVdlGc"
      },
      "execution_count": null,
      "outputs": []
    },
    {
      "cell_type": "markdown",
      "source": [
        "# Data Load"
      ],
      "metadata": {
        "id": "xFjXHrgLdo9H"
      }
    },
    {
      "cell_type": "code",
      "source": [
        "df_penyakit = pd.read_excel('/content/Tugas 3 STDA4101-2024.1 (1).xlsx')\n",
        "print(df_penyakit)"
      ],
      "metadata": {
        "colab": {
          "base_uri": "https://localhost:8080/"
        },
        "id": "Jcwi3szAssk3",
        "outputId": "30f78813-34ff-497f-eae9-dc37e0bde953"
      },
      "execution_count": 3,
      "outputs": [
        {
          "output_type": "stream",
          "name": "stdout",
          "text": [
            "    AGE   BMI      BP   S1    Y  Unnamed: 5  \\\n",
            "0    59  32.1  101.00  157  151         NaN   \n",
            "1    48  21.6   87.00  183   75         NaN   \n",
            "2    72  30.5   93.00  156  141         NaN   \n",
            "3    24  25.3   84.00  198  206         NaN   \n",
            "4    50  23.0  101.00  192  135         NaN   \n",
            "..  ...   ...     ...  ...  ...         ...   \n",
            "95   29  21.0   71.00  156  162         NaN   \n",
            "96   64  27.3  109.00  186  150         NaN   \n",
            "97   41  34.6   87.33  205  279         NaN   \n",
            "98   49  25.9   91.00  178   92         NaN   \n",
            "99   48  20.4   98.00  209   83         NaN   \n",
            "\n",
            "                                           Unnamed: 6  \n",
            "0                                         Keterangan:  \n",
            "1   Y, ukuran kuantitatif perkembangan penyakit se...  \n",
            "2                                   AGE, age in years  \n",
            "3                                BMI, body mass index  \n",
            "4                          BP, average blood pressure  \n",
            "..                                                ...  \n",
            "95                                                NaN  \n",
            "96                                                NaN  \n",
            "97                                                NaN  \n",
            "98                                                NaN  \n",
            "99                                                NaN  \n",
            "\n",
            "[100 rows x 7 columns]\n"
          ]
        }
      ]
    },
    {
      "cell_type": "markdown",
      "source": [
        "**Keterangan:**\n",
        "* Y : Ukuran kuantitatif perkembangan penyakit setelah satu tahun amatan\n",
        "* AGE : Age in Years\n",
        "* BMI : Body Mass Index (indeks massa tubuh)\n",
        "* BP : Average Blood Pressure (Rata rata tekanan darah)\n",
        "* S1 : Total serum cholesterol (Kolesterol serum total)"
      ],
      "metadata": {
        "id": "e5I8om9qdtQC"
      }
    },
    {
      "cell_type": "code",
      "source": [
        "# mengambil kolom tertentu untuk analisis\n",
        "df = df_penyakit[['AGE', 'BMI', 'BP', 'S1', 'Y']].dropna()\n",
        "print(df)"
      ],
      "metadata": {
        "colab": {
          "base_uri": "https://localhost:8080/"
        },
        "id": "fLsqi4Fatj2Y",
        "outputId": "75984d23-33f6-4111-8748-2b83c8c30c79"
      },
      "execution_count": 5,
      "outputs": [
        {
          "output_type": "stream",
          "name": "stdout",
          "text": [
            "    AGE   BMI      BP   S1    Y\n",
            "0    59  32.1  101.00  157  151\n",
            "1    48  21.6   87.00  183   75\n",
            "2    72  30.5   93.00  156  141\n",
            "3    24  25.3   84.00  198  206\n",
            "4    50  23.0  101.00  192  135\n",
            "..  ...   ...     ...  ...  ...\n",
            "95   29  21.0   71.00  156  162\n",
            "96   64  27.3  109.00  186  150\n",
            "97   41  34.6   87.33  205  279\n",
            "98   49  25.9   91.00  178   92\n",
            "99   48  20.4   98.00  209   83\n",
            "\n",
            "[100 rows x 5 columns]\n"
          ]
        }
      ]
    },
    {
      "cell_type": "markdown",
      "source": [
        "# Data Wrangling"
      ],
      "metadata": {
        "id": "O_WAsUA7d6xB"
      }
    },
    {
      "cell_type": "code",
      "source": [
        "#mengecek tipe datanya terlebih dahulu\n",
        "df.info()"
      ],
      "metadata": {
        "colab": {
          "base_uri": "https://localhost:8080/"
        },
        "id": "w1HKry5yvG3P",
        "outputId": "372992fa-1e8b-4ffa-bdb4-953720cfa43e"
      },
      "execution_count": 6,
      "outputs": [
        {
          "output_type": "stream",
          "name": "stdout",
          "text": [
            "<class 'pandas.core.frame.DataFrame'>\n",
            "RangeIndex: 100 entries, 0 to 99\n",
            "Data columns (total 5 columns):\n",
            " #   Column  Non-Null Count  Dtype  \n",
            "---  ------  --------------  -----  \n",
            " 0   AGE     100 non-null    int64  \n",
            " 1   BMI     100 non-null    float64\n",
            " 2   BP      100 non-null    float64\n",
            " 3   S1      100 non-null    int64  \n",
            " 4   Y       100 non-null    int64  \n",
            "dtypes: float64(2), int64(3)\n",
            "memory usage: 4.0 KB\n"
          ]
        }
      ]
    },
    {
      "cell_type": "code",
      "source": [
        "# Mengecek duplikasi\n",
        "df.duplicated().sum()"
      ],
      "metadata": {
        "colab": {
          "base_uri": "https://localhost:8080/"
        },
        "id": "XcrD8mE4eA1O",
        "outputId": "3ccae508-3cfd-4930-abd5-f083de3c365a"
      },
      "execution_count": 8,
      "outputs": [
        {
          "output_type": "execute_result",
          "data": {
            "text/plain": [
              "0"
            ]
          },
          "metadata": {},
          "execution_count": 8
        }
      ]
    },
    {
      "cell_type": "code",
      "source": [
        "# Mengecek missing values\n",
        "df.isna().sum()"
      ],
      "metadata": {
        "colab": {
          "base_uri": "https://localhost:8080/",
          "height": 241
        },
        "id": "pkv74V1IeGEw",
        "outputId": "1dfe7412-3b59-4afc-f05b-e4af7704173c"
      },
      "execution_count": 10,
      "outputs": [
        {
          "output_type": "execute_result",
          "data": {
            "text/plain": [
              "AGE    0\n",
              "BMI    0\n",
              "BP     0\n",
              "S1     0\n",
              "Y      0\n",
              "dtype: int64"
            ],
            "text/html": [
              "<div>\n",
              "<style scoped>\n",
              "    .dataframe tbody tr th:only-of-type {\n",
              "        vertical-align: middle;\n",
              "    }\n",
              "\n",
              "    .dataframe tbody tr th {\n",
              "        vertical-align: top;\n",
              "    }\n",
              "\n",
              "    .dataframe thead th {\n",
              "        text-align: right;\n",
              "    }\n",
              "</style>\n",
              "<table border=\"1\" class=\"dataframe\">\n",
              "  <thead>\n",
              "    <tr style=\"text-align: right;\">\n",
              "      <th></th>\n",
              "      <th>0</th>\n",
              "    </tr>\n",
              "  </thead>\n",
              "  <tbody>\n",
              "    <tr>\n",
              "      <th>AGE</th>\n",
              "      <td>0</td>\n",
              "    </tr>\n",
              "    <tr>\n",
              "      <th>BMI</th>\n",
              "      <td>0</td>\n",
              "    </tr>\n",
              "    <tr>\n",
              "      <th>BP</th>\n",
              "      <td>0</td>\n",
              "    </tr>\n",
              "    <tr>\n",
              "      <th>S1</th>\n",
              "      <td>0</td>\n",
              "    </tr>\n",
              "    <tr>\n",
              "      <th>Y</th>\n",
              "      <td>0</td>\n",
              "    </tr>\n",
              "  </tbody>\n",
              "</table>\n",
              "</div><br><label><b>dtype:</b> int64</label>"
            ]
          },
          "metadata": {},
          "execution_count": 10
        }
      ]
    },
    {
      "cell_type": "markdown",
      "source": [
        "# EDA"
      ],
      "metadata": {
        "id": "OSJivUsPeM2B"
      }
    },
    {
      "cell_type": "code",
      "source": [
        "#statistik deskriptif\n",
        "df.describe()"
      ],
      "metadata": {
        "colab": {
          "base_uri": "https://localhost:8080/",
          "height": 300
        },
        "id": "dS8gDFVNvkzZ",
        "outputId": "76fab723-5c25-4304-ce13-8f332308bd21"
      },
      "execution_count": 11,
      "outputs": [
        {
          "output_type": "execute_result",
          "data": {
            "text/plain": [
              "              AGE         BMI         BP          S1          Y\n",
              "count  100.000000  100.000000  100.00000  100.000000  100.00000\n",
              "mean    45.820000   25.398000   91.36660  180.910000  133.56000\n",
              "std     13.688733    3.832476   13.31877   31.790061   69.17031\n",
              "min     19.000000   18.600000   63.00000   97.000000   37.00000\n",
              "25%     35.000000   22.850000   83.00000  158.000000   75.00000\n",
              "50%     47.500000   24.950000   89.33500  181.500000  128.50000\n",
              "75%     58.000000   27.500000   98.00000  198.000000  170.00000\n",
              "max     72.000000   38.000000  131.00000  264.000000  341.00000"
            ],
            "text/html": [
              "\n",
              "  <div id=\"df-56544fff-d18c-43ff-b617-4c628efc84c6\" class=\"colab-df-container\">\n",
              "    <div>\n",
              "<style scoped>\n",
              "    .dataframe tbody tr th:only-of-type {\n",
              "        vertical-align: middle;\n",
              "    }\n",
              "\n",
              "    .dataframe tbody tr th {\n",
              "        vertical-align: top;\n",
              "    }\n",
              "\n",
              "    .dataframe thead th {\n",
              "        text-align: right;\n",
              "    }\n",
              "</style>\n",
              "<table border=\"1\" class=\"dataframe\">\n",
              "  <thead>\n",
              "    <tr style=\"text-align: right;\">\n",
              "      <th></th>\n",
              "      <th>AGE</th>\n",
              "      <th>BMI</th>\n",
              "      <th>BP</th>\n",
              "      <th>S1</th>\n",
              "      <th>Y</th>\n",
              "    </tr>\n",
              "  </thead>\n",
              "  <tbody>\n",
              "    <tr>\n",
              "      <th>count</th>\n",
              "      <td>100.000000</td>\n",
              "      <td>100.000000</td>\n",
              "      <td>100.00000</td>\n",
              "      <td>100.000000</td>\n",
              "      <td>100.00000</td>\n",
              "    </tr>\n",
              "    <tr>\n",
              "      <th>mean</th>\n",
              "      <td>45.820000</td>\n",
              "      <td>25.398000</td>\n",
              "      <td>91.36660</td>\n",
              "      <td>180.910000</td>\n",
              "      <td>133.56000</td>\n",
              "    </tr>\n",
              "    <tr>\n",
              "      <th>std</th>\n",
              "      <td>13.688733</td>\n",
              "      <td>3.832476</td>\n",
              "      <td>13.31877</td>\n",
              "      <td>31.790061</td>\n",
              "      <td>69.17031</td>\n",
              "    </tr>\n",
              "    <tr>\n",
              "      <th>min</th>\n",
              "      <td>19.000000</td>\n",
              "      <td>18.600000</td>\n",
              "      <td>63.00000</td>\n",
              "      <td>97.000000</td>\n",
              "      <td>37.00000</td>\n",
              "    </tr>\n",
              "    <tr>\n",
              "      <th>25%</th>\n",
              "      <td>35.000000</td>\n",
              "      <td>22.850000</td>\n",
              "      <td>83.00000</td>\n",
              "      <td>158.000000</td>\n",
              "      <td>75.00000</td>\n",
              "    </tr>\n",
              "    <tr>\n",
              "      <th>50%</th>\n",
              "      <td>47.500000</td>\n",
              "      <td>24.950000</td>\n",
              "      <td>89.33500</td>\n",
              "      <td>181.500000</td>\n",
              "      <td>128.50000</td>\n",
              "    </tr>\n",
              "    <tr>\n",
              "      <th>75%</th>\n",
              "      <td>58.000000</td>\n",
              "      <td>27.500000</td>\n",
              "      <td>98.00000</td>\n",
              "      <td>198.000000</td>\n",
              "      <td>170.00000</td>\n",
              "    </tr>\n",
              "    <tr>\n",
              "      <th>max</th>\n",
              "      <td>72.000000</td>\n",
              "      <td>38.000000</td>\n",
              "      <td>131.00000</td>\n",
              "      <td>264.000000</td>\n",
              "      <td>341.00000</td>\n",
              "    </tr>\n",
              "  </tbody>\n",
              "</table>\n",
              "</div>\n",
              "    <div class=\"colab-df-buttons\">\n",
              "\n",
              "  <div class=\"colab-df-container\">\n",
              "    <button class=\"colab-df-convert\" onclick=\"convertToInteractive('df-56544fff-d18c-43ff-b617-4c628efc84c6')\"\n",
              "            title=\"Convert this dataframe to an interactive table.\"\n",
              "            style=\"display:none;\">\n",
              "\n",
              "  <svg xmlns=\"http://www.w3.org/2000/svg\" height=\"24px\" viewBox=\"0 -960 960 960\">\n",
              "    <path d=\"M120-120v-720h720v720H120Zm60-500h600v-160H180v160Zm220 220h160v-160H400v160Zm0 220h160v-160H400v160ZM180-400h160v-160H180v160Zm440 0h160v-160H620v160ZM180-180h160v-160H180v160Zm440 0h160v-160H620v160Z\"/>\n",
              "  </svg>\n",
              "    </button>\n",
              "\n",
              "  <style>\n",
              "    .colab-df-container {\n",
              "      display:flex;\n",
              "      gap: 12px;\n",
              "    }\n",
              "\n",
              "    .colab-df-convert {\n",
              "      background-color: #E8F0FE;\n",
              "      border: none;\n",
              "      border-radius: 50%;\n",
              "      cursor: pointer;\n",
              "      display: none;\n",
              "      fill: #1967D2;\n",
              "      height: 32px;\n",
              "      padding: 0 0 0 0;\n",
              "      width: 32px;\n",
              "    }\n",
              "\n",
              "    .colab-df-convert:hover {\n",
              "      background-color: #E2EBFA;\n",
              "      box-shadow: 0px 1px 2px rgba(60, 64, 67, 0.3), 0px 1px 3px 1px rgba(60, 64, 67, 0.15);\n",
              "      fill: #174EA6;\n",
              "    }\n",
              "\n",
              "    .colab-df-buttons div {\n",
              "      margin-bottom: 4px;\n",
              "    }\n",
              "\n",
              "    [theme=dark] .colab-df-convert {\n",
              "      background-color: #3B4455;\n",
              "      fill: #D2E3FC;\n",
              "    }\n",
              "\n",
              "    [theme=dark] .colab-df-convert:hover {\n",
              "      background-color: #434B5C;\n",
              "      box-shadow: 0px 1px 3px 1px rgba(0, 0, 0, 0.15);\n",
              "      filter: drop-shadow(0px 1px 2px rgba(0, 0, 0, 0.3));\n",
              "      fill: #FFFFFF;\n",
              "    }\n",
              "  </style>\n",
              "\n",
              "    <script>\n",
              "      const buttonEl =\n",
              "        document.querySelector('#df-56544fff-d18c-43ff-b617-4c628efc84c6 button.colab-df-convert');\n",
              "      buttonEl.style.display =\n",
              "        google.colab.kernel.accessAllowed ? 'block' : 'none';\n",
              "\n",
              "      async function convertToInteractive(key) {\n",
              "        const element = document.querySelector('#df-56544fff-d18c-43ff-b617-4c628efc84c6');\n",
              "        const dataTable =\n",
              "          await google.colab.kernel.invokeFunction('convertToInteractive',\n",
              "                                                    [key], {});\n",
              "        if (!dataTable) return;\n",
              "\n",
              "        const docLinkHtml = 'Like what you see? Visit the ' +\n",
              "          '<a target=\"_blank\" href=https://colab.research.google.com/notebooks/data_table.ipynb>data table notebook</a>'\n",
              "          + ' to learn more about interactive tables.';\n",
              "        element.innerHTML = '';\n",
              "        dataTable['output_type'] = 'display_data';\n",
              "        await google.colab.output.renderOutput(dataTable, element);\n",
              "        const docLink = document.createElement('div');\n",
              "        docLink.innerHTML = docLinkHtml;\n",
              "        element.appendChild(docLink);\n",
              "      }\n",
              "    </script>\n",
              "  </div>\n",
              "\n",
              "\n",
              "<div id=\"df-f60209e1-f9db-4e8f-989d-22636f159957\">\n",
              "  <button class=\"colab-df-quickchart\" onclick=\"quickchart('df-f60209e1-f9db-4e8f-989d-22636f159957')\"\n",
              "            title=\"Suggest charts\"\n",
              "            style=\"display:none;\">\n",
              "\n",
              "<svg xmlns=\"http://www.w3.org/2000/svg\" height=\"24px\"viewBox=\"0 0 24 24\"\n",
              "     width=\"24px\">\n",
              "    <g>\n",
              "        <path d=\"M19 3H5c-1.1 0-2 .9-2 2v14c0 1.1.9 2 2 2h14c1.1 0 2-.9 2-2V5c0-1.1-.9-2-2-2zM9 17H7v-7h2v7zm4 0h-2V7h2v10zm4 0h-2v-4h2v4z\"/>\n",
              "    </g>\n",
              "</svg>\n",
              "  </button>\n",
              "\n",
              "<style>\n",
              "  .colab-df-quickchart {\n",
              "      --bg-color: #E8F0FE;\n",
              "      --fill-color: #1967D2;\n",
              "      --hover-bg-color: #E2EBFA;\n",
              "      --hover-fill-color: #174EA6;\n",
              "      --disabled-fill-color: #AAA;\n",
              "      --disabled-bg-color: #DDD;\n",
              "  }\n",
              "\n",
              "  [theme=dark] .colab-df-quickchart {\n",
              "      --bg-color: #3B4455;\n",
              "      --fill-color: #D2E3FC;\n",
              "      --hover-bg-color: #434B5C;\n",
              "      --hover-fill-color: #FFFFFF;\n",
              "      --disabled-bg-color: #3B4455;\n",
              "      --disabled-fill-color: #666;\n",
              "  }\n",
              "\n",
              "  .colab-df-quickchart {\n",
              "    background-color: var(--bg-color);\n",
              "    border: none;\n",
              "    border-radius: 50%;\n",
              "    cursor: pointer;\n",
              "    display: none;\n",
              "    fill: var(--fill-color);\n",
              "    height: 32px;\n",
              "    padding: 0;\n",
              "    width: 32px;\n",
              "  }\n",
              "\n",
              "  .colab-df-quickchart:hover {\n",
              "    background-color: var(--hover-bg-color);\n",
              "    box-shadow: 0 1px 2px rgba(60, 64, 67, 0.3), 0 1px 3px 1px rgba(60, 64, 67, 0.15);\n",
              "    fill: var(--button-hover-fill-color);\n",
              "  }\n",
              "\n",
              "  .colab-df-quickchart-complete:disabled,\n",
              "  .colab-df-quickchart-complete:disabled:hover {\n",
              "    background-color: var(--disabled-bg-color);\n",
              "    fill: var(--disabled-fill-color);\n",
              "    box-shadow: none;\n",
              "  }\n",
              "\n",
              "  .colab-df-spinner {\n",
              "    border: 2px solid var(--fill-color);\n",
              "    border-color: transparent;\n",
              "    border-bottom-color: var(--fill-color);\n",
              "    animation:\n",
              "      spin 1s steps(1) infinite;\n",
              "  }\n",
              "\n",
              "  @keyframes spin {\n",
              "    0% {\n",
              "      border-color: transparent;\n",
              "      border-bottom-color: var(--fill-color);\n",
              "      border-left-color: var(--fill-color);\n",
              "    }\n",
              "    20% {\n",
              "      border-color: transparent;\n",
              "      border-left-color: var(--fill-color);\n",
              "      border-top-color: var(--fill-color);\n",
              "    }\n",
              "    30% {\n",
              "      border-color: transparent;\n",
              "      border-left-color: var(--fill-color);\n",
              "      border-top-color: var(--fill-color);\n",
              "      border-right-color: var(--fill-color);\n",
              "    }\n",
              "    40% {\n",
              "      border-color: transparent;\n",
              "      border-right-color: var(--fill-color);\n",
              "      border-top-color: var(--fill-color);\n",
              "    }\n",
              "    60% {\n",
              "      border-color: transparent;\n",
              "      border-right-color: var(--fill-color);\n",
              "    }\n",
              "    80% {\n",
              "      border-color: transparent;\n",
              "      border-right-color: var(--fill-color);\n",
              "      border-bottom-color: var(--fill-color);\n",
              "    }\n",
              "    90% {\n",
              "      border-color: transparent;\n",
              "      border-bottom-color: var(--fill-color);\n",
              "    }\n",
              "  }\n",
              "</style>\n",
              "\n",
              "  <script>\n",
              "    async function quickchart(key) {\n",
              "      const quickchartButtonEl =\n",
              "        document.querySelector('#' + key + ' button');\n",
              "      quickchartButtonEl.disabled = true;  // To prevent multiple clicks.\n",
              "      quickchartButtonEl.classList.add('colab-df-spinner');\n",
              "      try {\n",
              "        const charts = await google.colab.kernel.invokeFunction(\n",
              "            'suggestCharts', [key], {});\n",
              "      } catch (error) {\n",
              "        console.error('Error during call to suggestCharts:', error);\n",
              "      }\n",
              "      quickchartButtonEl.classList.remove('colab-df-spinner');\n",
              "      quickchartButtonEl.classList.add('colab-df-quickchart-complete');\n",
              "    }\n",
              "    (() => {\n",
              "      let quickchartButtonEl =\n",
              "        document.querySelector('#df-f60209e1-f9db-4e8f-989d-22636f159957 button');\n",
              "      quickchartButtonEl.style.display =\n",
              "        google.colab.kernel.accessAllowed ? 'block' : 'none';\n",
              "    })();\n",
              "  </script>\n",
              "</div>\n",
              "\n",
              "    </div>\n",
              "  </div>\n"
            ],
            "application/vnd.google.colaboratory.intrinsic+json": {
              "type": "dataframe",
              "summary": "{\n  \"name\": \"df\",\n  \"rows\": 8,\n  \"fields\": [\n    {\n      \"column\": \"AGE\",\n      \"properties\": {\n        \"dtype\": \"number\",\n        \"std\": 28.19859455251648,\n        \"min\": 13.688733109437639,\n        \"max\": 100.0,\n        \"num_unique_values\": 8,\n        \"samples\": [\n          45.82,\n          47.5,\n          100.0\n        ],\n        \"semantic_type\": \"\",\n        \"description\": \"\"\n      }\n    },\n    {\n      \"column\": \"BMI\",\n      \"properties\": {\n        \"dtype\": \"number\",\n        \"std\": 28.851691138410576,\n        \"min\": 3.8324763205367285,\n        \"max\": 100.0,\n        \"num_unique_values\": 8,\n        \"samples\": [\n          25.398000000000003,\n          24.95,\n          100.0\n        ],\n        \"semantic_type\": \"\",\n        \"description\": \"\"\n      }\n    },\n    {\n      \"column\": \"BP\",\n      \"properties\": {\n        \"dtype\": \"number\",\n        \"std\": 34.185325836844115,\n        \"min\": 13.318770017831175,\n        \"max\": 131.0,\n        \"num_unique_values\": 8,\n        \"samples\": [\n          91.3666,\n          89.33500000000001,\n          100.0\n        ],\n        \"semantic_type\": \"\",\n        \"description\": \"\"\n      }\n    },\n    {\n      \"column\": \"S1\",\n      \"properties\": {\n        \"dtype\": \"number\",\n        \"std\": 72.28770652475339,\n        \"min\": 31.790061022243723,\n        \"max\": 264.0,\n        \"num_unique_values\": 8,\n        \"samples\": [\n          180.91,\n          181.5,\n          100.0\n        ],\n        \"semantic_type\": \"\",\n        \"description\": \"\"\n      }\n    },\n    {\n      \"column\": \"Y\",\n      \"properties\": {\n        \"dtype\": \"number\",\n        \"std\": 94.40404208355993,\n        \"min\": 37.0,\n        \"max\": 341.0,\n        \"num_unique_values\": 8,\n        \"samples\": [\n          133.56,\n          128.5,\n          100.0\n        ],\n        \"semantic_type\": \"\",\n        \"description\": \"\"\n      }\n    }\n  ]\n}"
            }
          },
          "metadata": {},
          "execution_count": 11
        }
      ]
    },
    {
      "cell_type": "markdown",
      "source": [
        "\n",
        "\n",
        "*  Kolom AGE:berkisar antara 19 hingga 72 tahun, dengan rata-rata 45.82 tahun\n",
        "*  Kolom BMI: Indeks massa tubuh antara 18.6 hingga 38, rata-rata 25.40.\n",
        "*  Kolom BP: Tekanan darah rata-rata 91.37, dengan rentang dari 63 hingga 131.\n",
        "*  Kolom S1: Serum kolesterol total antara 97 hingga 264, dengan rata-rata 180.91.\n",
        "*  Dan kolom Y: Ukuran perkembangan penyakit berkisaran 37 hingga 341, rata-rata 133.56.\n"
      ],
      "metadata": {
        "id": "7PFNoeIwwBT9"
      }
    },
    {
      "cell_type": "code",
      "source": [
        "# Korelasi antara variabel numerik\n",
        "df.corr()\n"
      ],
      "metadata": {
        "colab": {
          "base_uri": "https://localhost:8080/",
          "height": 206
        },
        "id": "p7NtaecQeQhl",
        "outputId": "a034dfbb-04a0-4c91-9b3a-edf4168236d7"
      },
      "execution_count": 14,
      "outputs": [
        {
          "output_type": "execute_result",
          "data": {
            "text/plain": [
              "          AGE       BMI        BP        S1         Y\n",
              "AGE  1.000000  0.291499  0.319403  0.353294  0.142536\n",
              "BMI  0.291499  1.000000  0.347581  0.233441  0.496646\n",
              "BP   0.319403  0.347581  1.000000  0.360052  0.290501\n",
              "S1   0.353294  0.233441  0.360052  1.000000  0.075864\n",
              "Y    0.142536  0.496646  0.290501  0.075864  1.000000"
            ],
            "text/html": [
              "\n",
              "  <div id=\"df-07d6a666-98e2-4189-975b-41b578c0b0c7\" class=\"colab-df-container\">\n",
              "    <div>\n",
              "<style scoped>\n",
              "    .dataframe tbody tr th:only-of-type {\n",
              "        vertical-align: middle;\n",
              "    }\n",
              "\n",
              "    .dataframe tbody tr th {\n",
              "        vertical-align: top;\n",
              "    }\n",
              "\n",
              "    .dataframe thead th {\n",
              "        text-align: right;\n",
              "    }\n",
              "</style>\n",
              "<table border=\"1\" class=\"dataframe\">\n",
              "  <thead>\n",
              "    <tr style=\"text-align: right;\">\n",
              "      <th></th>\n",
              "      <th>AGE</th>\n",
              "      <th>BMI</th>\n",
              "      <th>BP</th>\n",
              "      <th>S1</th>\n",
              "      <th>Y</th>\n",
              "    </tr>\n",
              "  </thead>\n",
              "  <tbody>\n",
              "    <tr>\n",
              "      <th>AGE</th>\n",
              "      <td>1.000000</td>\n",
              "      <td>0.291499</td>\n",
              "      <td>0.319403</td>\n",
              "      <td>0.353294</td>\n",
              "      <td>0.142536</td>\n",
              "    </tr>\n",
              "    <tr>\n",
              "      <th>BMI</th>\n",
              "      <td>0.291499</td>\n",
              "      <td>1.000000</td>\n",
              "      <td>0.347581</td>\n",
              "      <td>0.233441</td>\n",
              "      <td>0.496646</td>\n",
              "    </tr>\n",
              "    <tr>\n",
              "      <th>BP</th>\n",
              "      <td>0.319403</td>\n",
              "      <td>0.347581</td>\n",
              "      <td>1.000000</td>\n",
              "      <td>0.360052</td>\n",
              "      <td>0.290501</td>\n",
              "    </tr>\n",
              "    <tr>\n",
              "      <th>S1</th>\n",
              "      <td>0.353294</td>\n",
              "      <td>0.233441</td>\n",
              "      <td>0.360052</td>\n",
              "      <td>1.000000</td>\n",
              "      <td>0.075864</td>\n",
              "    </tr>\n",
              "    <tr>\n",
              "      <th>Y</th>\n",
              "      <td>0.142536</td>\n",
              "      <td>0.496646</td>\n",
              "      <td>0.290501</td>\n",
              "      <td>0.075864</td>\n",
              "      <td>1.000000</td>\n",
              "    </tr>\n",
              "  </tbody>\n",
              "</table>\n",
              "</div>\n",
              "    <div class=\"colab-df-buttons\">\n",
              "\n",
              "  <div class=\"colab-df-container\">\n",
              "    <button class=\"colab-df-convert\" onclick=\"convertToInteractive('df-07d6a666-98e2-4189-975b-41b578c0b0c7')\"\n",
              "            title=\"Convert this dataframe to an interactive table.\"\n",
              "            style=\"display:none;\">\n",
              "\n",
              "  <svg xmlns=\"http://www.w3.org/2000/svg\" height=\"24px\" viewBox=\"0 -960 960 960\">\n",
              "    <path d=\"M120-120v-720h720v720H120Zm60-500h600v-160H180v160Zm220 220h160v-160H400v160Zm0 220h160v-160H400v160ZM180-400h160v-160H180v160Zm440 0h160v-160H620v160ZM180-180h160v-160H180v160Zm440 0h160v-160H620v160Z\"/>\n",
              "  </svg>\n",
              "    </button>\n",
              "\n",
              "  <style>\n",
              "    .colab-df-container {\n",
              "      display:flex;\n",
              "      gap: 12px;\n",
              "    }\n",
              "\n",
              "    .colab-df-convert {\n",
              "      background-color: #E8F0FE;\n",
              "      border: none;\n",
              "      border-radius: 50%;\n",
              "      cursor: pointer;\n",
              "      display: none;\n",
              "      fill: #1967D2;\n",
              "      height: 32px;\n",
              "      padding: 0 0 0 0;\n",
              "      width: 32px;\n",
              "    }\n",
              "\n",
              "    .colab-df-convert:hover {\n",
              "      background-color: #E2EBFA;\n",
              "      box-shadow: 0px 1px 2px rgba(60, 64, 67, 0.3), 0px 1px 3px 1px rgba(60, 64, 67, 0.15);\n",
              "      fill: #174EA6;\n",
              "    }\n",
              "\n",
              "    .colab-df-buttons div {\n",
              "      margin-bottom: 4px;\n",
              "    }\n",
              "\n",
              "    [theme=dark] .colab-df-convert {\n",
              "      background-color: #3B4455;\n",
              "      fill: #D2E3FC;\n",
              "    }\n",
              "\n",
              "    [theme=dark] .colab-df-convert:hover {\n",
              "      background-color: #434B5C;\n",
              "      box-shadow: 0px 1px 3px 1px rgba(0, 0, 0, 0.15);\n",
              "      filter: drop-shadow(0px 1px 2px rgba(0, 0, 0, 0.3));\n",
              "      fill: #FFFFFF;\n",
              "    }\n",
              "  </style>\n",
              "\n",
              "    <script>\n",
              "      const buttonEl =\n",
              "        document.querySelector('#df-07d6a666-98e2-4189-975b-41b578c0b0c7 button.colab-df-convert');\n",
              "      buttonEl.style.display =\n",
              "        google.colab.kernel.accessAllowed ? 'block' : 'none';\n",
              "\n",
              "      async function convertToInteractive(key) {\n",
              "        const element = document.querySelector('#df-07d6a666-98e2-4189-975b-41b578c0b0c7');\n",
              "        const dataTable =\n",
              "          await google.colab.kernel.invokeFunction('convertToInteractive',\n",
              "                                                    [key], {});\n",
              "        if (!dataTable) return;\n",
              "\n",
              "        const docLinkHtml = 'Like what you see? Visit the ' +\n",
              "          '<a target=\"_blank\" href=https://colab.research.google.com/notebooks/data_table.ipynb>data table notebook</a>'\n",
              "          + ' to learn more about interactive tables.';\n",
              "        element.innerHTML = '';\n",
              "        dataTable['output_type'] = 'display_data';\n",
              "        await google.colab.output.renderOutput(dataTable, element);\n",
              "        const docLink = document.createElement('div');\n",
              "        docLink.innerHTML = docLinkHtml;\n",
              "        element.appendChild(docLink);\n",
              "      }\n",
              "    </script>\n",
              "  </div>\n",
              "\n",
              "\n",
              "<div id=\"df-00656280-960e-429a-ad02-a218c0aae4b6\">\n",
              "  <button class=\"colab-df-quickchart\" onclick=\"quickchart('df-00656280-960e-429a-ad02-a218c0aae4b6')\"\n",
              "            title=\"Suggest charts\"\n",
              "            style=\"display:none;\">\n",
              "\n",
              "<svg xmlns=\"http://www.w3.org/2000/svg\" height=\"24px\"viewBox=\"0 0 24 24\"\n",
              "     width=\"24px\">\n",
              "    <g>\n",
              "        <path d=\"M19 3H5c-1.1 0-2 .9-2 2v14c0 1.1.9 2 2 2h14c1.1 0 2-.9 2-2V5c0-1.1-.9-2-2-2zM9 17H7v-7h2v7zm4 0h-2V7h2v10zm4 0h-2v-4h2v4z\"/>\n",
              "    </g>\n",
              "</svg>\n",
              "  </button>\n",
              "\n",
              "<style>\n",
              "  .colab-df-quickchart {\n",
              "      --bg-color: #E8F0FE;\n",
              "      --fill-color: #1967D2;\n",
              "      --hover-bg-color: #E2EBFA;\n",
              "      --hover-fill-color: #174EA6;\n",
              "      --disabled-fill-color: #AAA;\n",
              "      --disabled-bg-color: #DDD;\n",
              "  }\n",
              "\n",
              "  [theme=dark] .colab-df-quickchart {\n",
              "      --bg-color: #3B4455;\n",
              "      --fill-color: #D2E3FC;\n",
              "      --hover-bg-color: #434B5C;\n",
              "      --hover-fill-color: #FFFFFF;\n",
              "      --disabled-bg-color: #3B4455;\n",
              "      --disabled-fill-color: #666;\n",
              "  }\n",
              "\n",
              "  .colab-df-quickchart {\n",
              "    background-color: var(--bg-color);\n",
              "    border: none;\n",
              "    border-radius: 50%;\n",
              "    cursor: pointer;\n",
              "    display: none;\n",
              "    fill: var(--fill-color);\n",
              "    height: 32px;\n",
              "    padding: 0;\n",
              "    width: 32px;\n",
              "  }\n",
              "\n",
              "  .colab-df-quickchart:hover {\n",
              "    background-color: var(--hover-bg-color);\n",
              "    box-shadow: 0 1px 2px rgba(60, 64, 67, 0.3), 0 1px 3px 1px rgba(60, 64, 67, 0.15);\n",
              "    fill: var(--button-hover-fill-color);\n",
              "  }\n",
              "\n",
              "  .colab-df-quickchart-complete:disabled,\n",
              "  .colab-df-quickchart-complete:disabled:hover {\n",
              "    background-color: var(--disabled-bg-color);\n",
              "    fill: var(--disabled-fill-color);\n",
              "    box-shadow: none;\n",
              "  }\n",
              "\n",
              "  .colab-df-spinner {\n",
              "    border: 2px solid var(--fill-color);\n",
              "    border-color: transparent;\n",
              "    border-bottom-color: var(--fill-color);\n",
              "    animation:\n",
              "      spin 1s steps(1) infinite;\n",
              "  }\n",
              "\n",
              "  @keyframes spin {\n",
              "    0% {\n",
              "      border-color: transparent;\n",
              "      border-bottom-color: var(--fill-color);\n",
              "      border-left-color: var(--fill-color);\n",
              "    }\n",
              "    20% {\n",
              "      border-color: transparent;\n",
              "      border-left-color: var(--fill-color);\n",
              "      border-top-color: var(--fill-color);\n",
              "    }\n",
              "    30% {\n",
              "      border-color: transparent;\n",
              "      border-left-color: var(--fill-color);\n",
              "      border-top-color: var(--fill-color);\n",
              "      border-right-color: var(--fill-color);\n",
              "    }\n",
              "    40% {\n",
              "      border-color: transparent;\n",
              "      border-right-color: var(--fill-color);\n",
              "      border-top-color: var(--fill-color);\n",
              "    }\n",
              "    60% {\n",
              "      border-color: transparent;\n",
              "      border-right-color: var(--fill-color);\n",
              "    }\n",
              "    80% {\n",
              "      border-color: transparent;\n",
              "      border-right-color: var(--fill-color);\n",
              "      border-bottom-color: var(--fill-color);\n",
              "    }\n",
              "    90% {\n",
              "      border-color: transparent;\n",
              "      border-bottom-color: var(--fill-color);\n",
              "    }\n",
              "  }\n",
              "</style>\n",
              "\n",
              "  <script>\n",
              "    async function quickchart(key) {\n",
              "      const quickchartButtonEl =\n",
              "        document.querySelector('#' + key + ' button');\n",
              "      quickchartButtonEl.disabled = true;  // To prevent multiple clicks.\n",
              "      quickchartButtonEl.classList.add('colab-df-spinner');\n",
              "      try {\n",
              "        const charts = await google.colab.kernel.invokeFunction(\n",
              "            'suggestCharts', [key], {});\n",
              "      } catch (error) {\n",
              "        console.error('Error during call to suggestCharts:', error);\n",
              "      }\n",
              "      quickchartButtonEl.classList.remove('colab-df-spinner');\n",
              "      quickchartButtonEl.classList.add('colab-df-quickchart-complete');\n",
              "    }\n",
              "    (() => {\n",
              "      let quickchartButtonEl =\n",
              "        document.querySelector('#df-00656280-960e-429a-ad02-a218c0aae4b6 button');\n",
              "      quickchartButtonEl.style.display =\n",
              "        google.colab.kernel.accessAllowed ? 'block' : 'none';\n",
              "    })();\n",
              "  </script>\n",
              "</div>\n",
              "\n",
              "    </div>\n",
              "  </div>\n"
            ],
            "application/vnd.google.colaboratory.intrinsic+json": {
              "type": "dataframe",
              "summary": "{\n  \"name\": \"df\",\n  \"rows\": 5,\n  \"fields\": [\n    {\n      \"column\": \"AGE\",\n      \"properties\": {\n        \"dtype\": \"number\",\n        \"std\": 0.3333389252166567,\n        \"min\": 0.1425356152577293,\n        \"max\": 1.0,\n        \"num_unique_values\": 5,\n        \"samples\": [\n          0.29149936798321285,\n          0.1425356152577293,\n          0.3194029410071704\n        ],\n        \"semantic_type\": \"\",\n        \"description\": \"\"\n      }\n    },\n    {\n      \"column\": \"BMI\",\n      \"properties\": {\n        \"dtype\": \"number\",\n        \"std\": 0.30997802802955476,\n        \"min\": 0.2334412328523591,\n        \"max\": 1.0,\n        \"num_unique_values\": 5,\n        \"samples\": [\n          1.0,\n          0.49664612894028765,\n          0.347580849016934\n        ],\n        \"semantic_type\": \"\",\n        \"description\": \"\"\n      }\n    },\n    {\n      \"column\": \"BP\",\n      \"properties\": {\n        \"dtype\": \"number\",\n        \"std\": 0.30110782611766185,\n        \"min\": 0.2905007057887683,\n        \"max\": 1.0,\n        \"num_unique_values\": 5,\n        \"samples\": [\n          0.347580849016934,\n          0.2905007057887683,\n          1.0\n        ],\n        \"semantic_type\": \"\",\n        \"description\": \"\"\n      }\n    },\n    {\n      \"column\": \"S1\",\n      \"properties\": {\n        \"dtype\": \"number\",\n        \"std\": 0.35230702608862324,\n        \"min\": 0.07586358377267055,\n        \"max\": 1.0,\n        \"num_unique_values\": 5,\n        \"samples\": [\n          0.2334412328523591,\n          0.07586358377267055,\n          0.3600520696581078\n        ],\n        \"semantic_type\": \"\",\n        \"description\": \"\"\n      }\n    },\n    {\n      \"column\": \"Y\",\n      \"properties\": {\n        \"dtype\": \"number\",\n        \"std\": 0.3717111592719611,\n        \"min\": 0.07586358377267055,\n        \"max\": 1.0,\n        \"num_unique_values\": 5,\n        \"samples\": [\n          0.49664612894028765,\n          1.0,\n          0.2905007057887683\n        ],\n        \"semantic_type\": \"\",\n        \"description\": \"\"\n      }\n    }\n  ]\n}"
            }
          },
          "metadata": {},
          "execution_count": 14
        }
      ]
    },
    {
      "cell_type": "markdown",
      "source": [
        "# Jawaban Tugas 3"
      ],
      "metadata": {
        "id": "QUXrrsxpekV_"
      }
    },
    {
      "cell_type": "code",
      "source": [
        "# Soal 1.Membuat visualisasi data multivariat dengan menggunakan scatter plot untuk mengetahui hubungan antar variabel\n",
        "sns.pairplot(df, diag_kind='kde', markers ='+', corner = True)\n",
        "plt.suptitle(\"Scatter Plot Multivariat\", y=1.02, fontsize=14)\n",
        "plt.show()\n"
      ],
      "metadata": {
        "colab": {
          "base_uri": "https://localhost:8080/",
          "height": 1000
        },
        "id": "dGFExfYDw9MY",
        "outputId": "b77c4452-9c60-41ae-eb08-ce761bd693ea"
      },
      "execution_count": 15,
      "outputs": [
        {
          "output_type": "display_data",
          "data": {
            "text/plain": [
              "<Figure size 1250x1250 with 20 Axes>"
            ],
            "image/png": "[encoded data removed]"
          },
          "metadata": {}
        }
      ]
    },
    {
      "cell_type": "markdown",
      "source": [
        "* Kita memodelkan hubungan variabel dependen Y (ukuran perkembangan penyakit) dengan variabel independen AGE, BMI, BP, dan S1"
      ],
      "metadata": {
        "id": "3t1bmfE2y3Wp"
      }
    },
    {
      "cell_type": "code",
      "source": [
        "#Soal 2.Tentukan model persamaan regresi linear\n",
        "X = df[['AGE', 'BMI', 'BP', 'S1']]\n",
        "y = df['Y']\n",
        "X = sm.add_constant(X)\n",
        "model = sm.OLS(y, X).fit()\n",
        "print(model.summary())\n"
      ],
      "metadata": {
        "colab": {
          "base_uri": "https://localhost:8080/"
        },
        "id": "OdW3bhCYyUis",
        "outputId": "73f6f534-c87f-4845-a034-81ee2302979a"
      },
      "execution_count": 16,
      "outputs": [
        {
          "output_type": "stream",
          "name": "stdout",
          "text": [
            "                            OLS Regression Results                            \n",
            "==============================================================================\n",
            "Dep. Variable:                      Y   R-squared:                       0.270\n",
            "Model:                            OLS   Adj. R-squared:                  0.239\n",
            "Method:                 Least Squares   F-statistic:                     8.768\n",
            "Date:                Thu, 12 Dec 2024   Prob (F-statistic):           4.55e-06\n",
            "Time:                        01:28:12   Log-Likelihood:                -549.34\n",
            "No. Observations:                 100   AIC:                             1109.\n",
            "Df Residuals:                      95   BIC:                             1122.\n",
            "Df Model:                           4                                         \n",
            "Covariance Type:            nonrobust                                         \n",
            "==============================================================================\n",
            "                 coef    std err          t      P>|t|      [0.025      0.975]\n",
            "------------------------------------------------------------------------------\n",
            "const       -119.8912     53.293     -2.250      0.027    -225.690     -14.092\n",
            "AGE           -0.0748      0.493     -0.152      0.880      -1.054       0.905\n",
            "BMI            8.3701      1.728      4.843      0.000       4.939      11.801\n",
            "BP             0.8582      0.517      1.659      0.100      -0.169       1.885\n",
            "S1            -0.1886      0.213     -0.886      0.378      -0.611       0.234\n",
            "==============================================================================\n",
            "Omnibus:                        2.415   Durbin-Watson:                   1.986\n",
            "Prob(Omnibus):                  0.299   Jarque-Bera (JB):                2.400\n",
            "Skew:                           0.329   Prob(JB):                        0.301\n",
            "Kurtosis:                       2.620   Cond. No.                     1.87e+03\n",
            "==============================================================================\n",
            "\n",
            "Notes:\n",
            "[1] Standard Errors assume that the covariance matrix of the errors is correctly specified.\n",
            "[2] The condition number is large, 1.87e+03. This might indicate that there are\n",
            "strong multicollinearity or other numerical problems.\n"
          ]
        }
      ]
    },
    {
      "cell_type": "code",
      "source": [
        "#Soal 3.Berikan ulasan Anda tentang model tersebut.\n"
      ],
      "metadata": {
        "id": "IMKV6lh40DHp"
      },
      "execution_count": null,
      "outputs": []
    },
    {
      "cell_type": "markdown",
      "source": [
        "\n",
        "\n",
        "1.   Kualitas model R-squared = 0.270  ini hanya menjelaskan 27% variabilitas variabel dependen Y. Ini menunjukkan bahwa sebagian besar variabilitas perkembangan penyakit tidak dapat dijelaskan oleh variabel independen dalam model ini,F-statistic = 8.768 dimana model secara keseluruhan signifikan, yang berarti setidaknya satu variabel independen memiliki hubungan yang signifikan dengan Y.\n",
        "\n",
        "\n",
        "---\n",
        "\n",
        "\n",
        "\n",
        "2.   Durbin-Watson = 1.986: Nilai ini mendekati 2, menunjukkan bahwa tidak ada autokorelasi dalam residual, yang baik untuk model regresi.\n",
        "Omnibus dan Jarque-Bera = P-value > 0.05 menunjukkan bahwa residual berdistribusi normal, sehingga asumsi regresi terpenuhi.\n",
        "\n",
        "---\n",
        "\n",
        "\n",
        "\n",
        "3.   Signifikansi koefisien individual\n",
        "\n",
        "* const\t=-119.89 ;nilai perkembangan penyakit tanpa pengaruh variabel lain\n",
        "* AGE\t=-0.0748 Tidak signifikan (p > 0.05). Usia tidak memiliki hubungan yang berarti dengan perkembangan penyakit dalam model ini.\n",
        "* BMI\t=8.3701\tSangat signifikan (p < 0.01). BMI memiliki hubungan positif, artinya peningkatan 1 unit BMI meningkatkan Y sebesar 8.37 unit.\n",
        "* BP\t=0.8582 Tidak signifikan (p > 0.05). Tekanan darah memiliki kontribusi kecil yang tidak signifikan.\n",
        "* S1  =-0.1886 Tidak signifikan (p > 0.05). Serum kolesterol tidak menunjukkan hubungan yang berarti.\n",
        "\n",
        "---\n",
        "\n",
        "4. Masalah Multikolinearitas (Condition Number) = 1.87e+03 (1,870): Angka ini cukup besar, menunjukkan kemungkinan adanya multikolinearitas antara variabel independen. Hal ini dapat memengaruhi stabilitas estimasi koefisien.\n",
        "\n",
        "\n",
        "\n",
        "\n",
        "\n",
        "\n",
        "\n",
        "\n"
      ],
      "metadata": {
        "id": "ONG7l46H0GZn"
      }
    },
    {
      "cell_type": "markdown",
      "source": [
        "# Insight"
      ],
      "metadata": {
        "id": "EUzWzL0te3tm"
      }
    },
    {
      "cell_type": "markdown",
      "source": [
        "**Kesimpulan**\n",
        "\n",
        "Dari keempat variabel independen, hanya BMI yang signifikan secara statistik dalam menjelaskan perkembangan penyakit (Y). Variabel lainnya mungkin tidak terlalu relevan,dengan kemampuan model regresi ini dalam menjelaskan varibel dependen Y (ukuran perkembangan penyakit) masih terbatas....Sekian"
      ],
      "metadata": {
        "id": "fj27w2vFe6qQ"
      }
    }
  ]
}